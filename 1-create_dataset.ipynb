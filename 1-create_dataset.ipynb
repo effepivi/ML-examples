{
 "cells": [
  {
   "cell_type": "code",
   "execution_count": null,
   "id": "f5e689c1-9d71-43fd-9c90-8a26de09402c",
   "metadata": {},
   "outputs": [],
   "source": [
    "%matplotlib inline"
   ]
  },
  {
   "cell_type": "markdown",
   "id": "1efa7378-ef46-4582-b842-4df7abb90508",
   "metadata": {},
   "source": [
    "# Create a spreadsheet (dataset) of features from an image\n",
    "\n",
    "## Author: Dr Franck P. Vidal, Bangor University\n",
    "For this example, we use a radiograph pf a block of plexiglass. The image is stored in a DICOM file. Each pixel is stored using an unsigned integer (14 bits). We use [*SimpleITK*](https://simpleitk.org/) to load the data. We will use [*Pandas*](https://pandas.pydata.org/) to save the dataset in a spreadsheet (CSV file). Uncomment the lined below if you need to install them."
   ]
  },
  {
   "cell_type": "code",
   "execution_count": null,
   "id": "b04a7691-a0bc-405d-aed1-959855a9af15",
   "metadata": {},
   "outputs": [],
   "source": [
    "# !pip install --user simpleitk\n",
    "# !pip install --user pandas"
   ]
  },
  {
   "cell_type": "markdown",
   "id": "7e033140-8a29-43ce-9ba1-c352cfde46cc",
   "metadata": {},
   "source": [
    "## What is a data set (also called dataset)\n",
    "\n",
    "Before you carry on, it is important that you get familiar with *Lecture 2* about **Data**, in particular Slide 4.\n",
    "\n",
    "![Slide 4 of Lecture 2 on \"Data\"](img/lect2-slide4.png)\n",
    "\n",
    "A dataset is often represented as a matrix that can be saved in a spreadsheet. \n",
    "Notice the notation below:\n",
    "    \n",
    "- **Z** is the dataset. \n",
    "- Each row is an **object**.\n",
    "- There are *N* objects in **Z**.\n",
    "- Each column (except the last one) is a feature.\n",
    "- There are *n* features.\n",
    "- The last column (*y*) stores the label of each object.\n",
    "- There are *c* classes.\n",
    "\n",
    "As you must have noticed, Question 1(d) of the assignment is related to this notation."
   ]
  },
  {
   "cell_type": "code",
   "execution_count": null,
   "id": "8f8e4638-e9b7-4d6b-9ba5-8bf0d1305edd",
   "metadata": {},
   "outputs": [],
   "source": [
    "import os\n",
    "import random\n",
    "import numpy as np\n",
    "import pandas as pd\n",
    "\n",
    "from scipy.stats import kurtosis\n",
    "from scipy.stats import skew\n",
    "\n",
    "from ipywidgets import Button, HBox\n",
    "import functools\n",
    "\n",
    "import matplotlib\n",
    "import matplotlib.pyplot as plt\n",
    "import matplotlib.patches as patches\n",
    "\n",
    "font = {'family' : 'serif',\n",
    "        #'weight' : 'bold',\n",
    "         'size'   : 12.5\n",
    "       }\n",
    "matplotlib.rc('font', **font)\n",
    "\n",
    "import SimpleITK as sitk # Load the medical DICOM file"
   ]
  },
  {
   "cell_type": "markdown",
   "id": "072e59e4-51af-4c3b-919f-110ceca82eb3",
   "metadata": {},
   "source": [
    "# Load an image\n",
    "\n",
    "SimpleITK is used to open the image. The data must be converted into a numpy array."
   ]
  },
  {
   "cell_type": "code",
   "execution_count": null,
   "id": "d9e05518-5f67-4586-bab9-447306d6062c",
   "metadata": {},
   "outputs": [],
   "source": [
    "fname = \"DX000000\"\n",
    "\n",
    "reader = sitk.ImageFileReader()\n",
    "reader.SetFileName(fname)\n",
    "sitk_volume = reader.Execute()\n",
    "np_image = sitk.GetArrayFromImage(sitk_volume)[0]"
   ]
  },
  {
   "cell_type": "code",
   "execution_count": null,
   "id": "098eeeb5-91f0-46f7-923c-23a2849ec05a",
   "metadata": {},
   "outputs": [],
   "source": [
    "print(\"[\", np.min(np_image), \",\", np.max(np_image), \"]\")\n",
    "print(np.mean(np_image), \"+/-\", np.std(np_image))\n",
    "print(np_image.dtype)"
   ]
  },
  {
   "cell_type": "markdown",
   "id": "0bab4508-3d5e-4323-bb3a-fb466f5e9d4d",
   "metadata": {},
   "source": [
    "# Standardisation\n",
    "\n",
    "We use the zero-mean, unit variance normalisation (also called standardisation) method so that that the average pixel value of the whole image is 0, and the standard deviation 1."
   ]
  },
  {
   "cell_type": "code",
   "execution_count": null,
   "id": "ebd1c8c3-5b51-4acd-8fd5-8828da3f4eb0",
   "metadata": {},
   "outputs": [],
   "source": [
    "bias = -np.mean(np_image)\n",
    "gain = 1.0 / np.std(np_image)"
   ]
  },
  {
   "cell_type": "code",
   "execution_count": null,
   "id": "5d2612c1-d7ef-48c5-bf55-e921887defe6",
   "metadata": {},
   "outputs": [],
   "source": [
    "def applyBiasGain(data):\n",
    "    global bias, gain\n",
    "    return (data + bias) * gain"
   ]
  },
  {
   "cell_type": "code",
   "execution_count": null,
   "id": "63bfdfcb-bfe7-40c5-9de2-b719eba02a64",
   "metadata": {
    "tags": []
   },
   "outputs": [],
   "source": [
    "np_image = applyBiasGain(np_image.astype(np.single))\n",
    "print(\"[\", np.min(np_image), \",\", np.max(np_image), \"]\")\n",
    "print(np.mean(np_image), \"+/-\", np.std(np_image))\n",
    "print(np_image.dtype)"
   ]
  },
  {
   "cell_type": "markdown",
   "id": "47fca357-26c1-46a5-8d9e-eb4158f4e14e",
   "metadata": {},
   "source": [
    "# Display the image"
   ]
  },
  {
   "cell_type": "code",
   "execution_count": null,
   "id": "fa878ab1-2ecd-4e4b-9206-49f9ad4df93e",
   "metadata": {},
   "outputs": [],
   "source": [
    "spacing = sitk_volume.GetSpacing()[0:2]\n",
    "size = sitk_volume.GetSize()[0:2]\n",
    "\n",
    "print(\"Image size:\", size, \"[px]\")\n",
    "print(\"Pixel spacing:\", spacing, \"[mm]\")"
   ]
  },
  {
   "cell_type": "code",
   "execution_count": null,
   "id": "5a58e7be-da7f-4f8b-8c83-92531c92ebb3",
   "metadata": {},
   "outputs": [],
   "source": [
    "window_centre = int(sitk_volume.GetMetaData(\"0028|1050\"))\n",
    "window_width = int(sitk_volume.GetMetaData(\"0028|1051\"))\n",
    "\n",
    "print(\"Window Center used: \", window_centre)\n",
    "print(\"Window Width used: \", window_width)\n",
    "\n",
    "vmin = applyBiasGain(window_centre - window_width / 2)\n",
    "vmax = applyBiasGain(window_centre + window_width / 2)\n",
    "\n",
    "view_position = sitk_volume.GetMetaData(\"0018|5101\")\n",
    "print(\"View position: \", view_position)"
   ]
  },
  {
   "cell_type": "markdown",
   "id": "9bfd029d-018f-4fd4-8d30-d6cb45b32d78",
   "metadata": {},
   "source": [
    "Plot the image"
   ]
  },
  {
   "cell_type": "code",
   "execution_count": null,
   "id": "e5c68b39-d28c-48ab-8f1c-692e82a4a126",
   "metadata": {},
   "outputs": [],
   "source": [
    "plt.figure(figsize= (7.5,7.5))\n",
    "xrange = range(np_image.shape[1])\n",
    "yrange = range(np_image.shape[0])\n",
    "\n",
    "extent = [0,(np_image.shape[1]-1)*spacing[0],0,(np_image.shape[0]-1)*spacing[1]]\n",
    "plt.xlabel(\"Pixel position\\n(in mm)\")\n",
    "plt.ylabel(\"Pixel position\\n(in mm)\")\n",
    "plt.title(\"X-ray image\")\n",
    "plt.imshow(np_image, cmap=\"gray\", \n",
    "           vmin=vmin, vmax=vmax,\n",
    "           extent=extent)\n",
    "plt.colorbar(orientation='vertical')\n",
    "plt.show()"
   ]
  },
  {
   "cell_type": "markdown",
   "id": "fdaef294-bbbd-442a-bc9e-618951800bbd",
   "metadata": {},
   "source": [
    "# List of some possible features\n",
    "\n",
    "<!-- 1. Split the image in small $l\\times l$ tiles, e.g. with $l=10$; -->\n",
    "1. Decide what the classes are:\n",
    "    - `1` for the background,\n",
    "    - `2` for the foreground.\n",
    "2. For each object, extract features, e.g. statistic values on the pixel values of the tile:\n",
    "    - Average pixel value,\n",
    "    - Median pixel value,\n",
    "    - Standard deviation,\n",
    "    - Min pixel value,\n",
    "    - Max pixel value,\n",
    "    - Kurtosis, and \n",
    "    - Skewness.\n",
    "    \n",
    "    (others could be used)"
   ]
  },
  {
   "cell_type": "markdown",
   "id": "4bede0f1-fade-4c62-b3cf-a9e65097190d",
   "metadata": {},
   "source": [
    "# Create a dataset\n",
    "\n",
    "We must create a spreadsheet. Below are the columns of the spreadsheet."
   ]
  },
  {
   "cell_type": "code",
   "execution_count": null,
   "id": "ab7fb01d-f76e-424a-8d61-c209b8f8b128",
   "metadata": {},
   "outputs": [],
   "source": [
    "columns = [\"x\", \"y\", \"length of tile size [in px]\", \"avg\", \"median\", \"stddev\", \"kurtosis\", \"skewness\", \"c\"]\n",
    "rows = []"
   ]
  },
  {
   "cell_type": "code",
   "execution_count": null,
   "id": "66a3d4ea-fef7-4e46-bb8c-cf2b1e5a5f41",
   "metadata": {},
   "outputs": [],
   "source": [
    "def getRecord(x, y, tile_lenght, tile, switch):\n",
    "    row = []\n",
    "    \n",
    "    # The centre of the tile (see `+ tile_lenght // 2` below)\n",
    "    row.append(x + tile_lenght // 2)\n",
    "    row.append(y + tile_lenght // 2)\n",
    "    row.append(tile_lenght)\n",
    "    row.append(np.mean(tile))\n",
    "    row.append(np.median(tile))\n",
    "    row.append(np.std(tile))\n",
    "    row.append(kurtosis(tile, axis=None))\n",
    "    row.append(skew(tile, axis=None))\n",
    "    \n",
    "    # Background\n",
    "    if switch[0].style.button_color == 'pink':\n",
    "        row.append(1)\n",
    "    # Foreground\n",
    "    else:\n",
    "        row.append(2)\n",
    "    \n",
    "    return row"
   ]
  },
  {
   "cell_type": "code",
   "execution_count": null,
   "id": "f5cda388-cfe0-4509-ac93-4b790dda4884",
   "metadata": {},
   "outputs": [],
   "source": [
    "def upon_clicked(btn, _rs):\n",
    "    global rows\n",
    "    \n",
    "    label = btn[0]\n",
    "    x = btn[1]\n",
    "    y = btn[2]\n",
    "    tile_lenght = btn[3]\n",
    "    tile = btn[4]\n",
    "    switch = btn[5]\n",
    "\n",
    "    switch[1 - label].style.button_color = 'gray'\n",
    "    switch[label].style.button_color = 'pink'\n",
    "\n",
    "    rows.append(getRecord(x, y, tile_lenght, tile, switch))\n",
    "    \n",
    "def getTile(image: np.array, vmin: int, vmax: int, extent, tile_lenght: int=10):\n",
    "\n",
    "\n",
    "    # Handle the border\n",
    "    x = random.randint(0, image.shape[1] - 1 - tile_lenght)\n",
    "    y = random.randint(0, image.shape[0] - 1 - tile_lenght)\n",
    "    tile = image[y:y+tile_lenght, x:x+tile_lenght];\n",
    "    \n",
    "    plt.figure()\n",
    "    ax = plt.subplot(1, 2, 1)\n",
    "    plt.imshow(image, cmap=\"gray\", vmin=vmin, vmax=vmax)\n",
    "    rect = patches.Rectangle((x, y), \n",
    "                             tile_lenght, tile_lenght, \n",
    "                             linewidth=1, edgecolor='r', facecolor='none');\n",
    "    ax.add_patch(rect)\n",
    "\n",
    "    # ax = plt.subplot(1, 2, 2)\n",
    "    # plt.imshow(tile, cmap=\"gray\", vmin=vmin, vmax=vmax)\n",
    "    plt.show();\n",
    "    \n",
    "    switch = [Button(description=name) for name in [\"Background\", \"Foreground\"]]\n",
    "    combined = HBox([items for items in switch])\n",
    "    \n",
    "    switch[0].on_click(functools.partial(upon_clicked, [0, x, y, tile_lenght, tile, switch]))\n",
    "    switch[1].on_click(functools.partial(upon_clicked, [1, x, y, tile_lenght, tile, switch]))\n",
    "\n",
    "    display(combined)"
   ]
  },
  {
   "cell_type": "markdown",
   "id": "04cde53f-fb59-426b-92e0-5db15eb0ec0e",
   "metadata": {},
   "source": [
    "# Display the image $N$ times and select the class"
   ]
  },
  {
   "cell_type": "code",
   "execution_count": null,
   "id": "876b9c26-6c16-4294-b1c8-b34a0dbfdd14",
   "metadata": {},
   "outputs": [],
   "source": [
    "for i in range(31):\n",
    "    getTile(np_image, vmin, vmax, extent, 50)"
   ]
  },
  {
   "cell_type": "code",
   "execution_count": null,
   "id": "14d7749b-b5bd-4b73-a285-fdd43cc5e2b6",
   "metadata": {},
   "outputs": [],
   "source": [
    "print(len(rows), \"objects in the dataset\")"
   ]
  },
  {
   "cell_type": "markdown",
   "id": "8df54dbb-419c-400e-9e9d-422ed2debe93",
   "metadata": {},
   "source": [
    "# Save the dataset in a file"
   ]
  },
  {
   "cell_type": "markdown",
   "id": "54fe7afb-40df-4a76-b350-6bb600264e68",
   "metadata": {},
   "source": [
    "Create the dataframe"
   ]
  },
  {
   "cell_type": "code",
   "execution_count": null,
   "id": "4feb94f4-abac-4aa8-bebf-64a258bf157e",
   "metadata": {},
   "outputs": [],
   "source": [
    "df = pd.DataFrame(columns=columns, data=rows)"
   ]
  },
  {
   "cell_type": "code",
   "execution_count": null,
   "id": "82b0368b-998a-4baa-9919-cbe83e43f5ed",
   "metadata": {},
   "outputs": [],
   "source": [
    "df.to_csv(\"dataset.csv\", index=False)"
   ]
  },
  {
   "cell_type": "code",
   "execution_count": null,
   "id": "942f8bd2-2ebc-4e29-b266-9f2d0fd0f286",
   "metadata": {},
   "outputs": [],
   "source": [
    "display(df)"
   ]
  },
  {
   "cell_type": "code",
   "execution_count": null,
   "id": "bed4a5f1-6085-4b53-88b6-29ace4338b60",
   "metadata": {},
   "outputs": [],
   "source": [
    "print(\"Number of objects corresponding to the foreground:\", df[df[\"c\"]==2][\"c\"].count())\n",
    "print(\"Number of objects corresponding to the background:\", df[df[\"c\"]==1][\"c\"].count())"
   ]
  },
  {
   "cell_type": "code",
   "execution_count": null,
   "id": "f0f98897-0c6e-497b-a88a-4e0541cda482",
   "metadata": {},
   "outputs": [],
   "source": []
  }
 ],
 "metadata": {
  "kernelspec": {
   "display_name": "Python 3 (ipykernel)",
   "language": "python",
   "name": "python3"
  },
  "language_info": {
   "codemirror_mode": {
    "name": "ipython",
    "version": 3
   },
   "file_extension": ".py",
   "mimetype": "text/x-python",
   "name": "python",
   "nbconvert_exporter": "python",
   "pygments_lexer": "ipython3",
   "version": "3.10.6"
  }
 },
 "nbformat": 4,
 "nbformat_minor": 5
}
